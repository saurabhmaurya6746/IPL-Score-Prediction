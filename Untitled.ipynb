{
 "cells": [
  {
   "cell_type": "code",
   "execution_count": 1,
   "id": "41ebe6b8-89c3-418b-9731-2e45dce54336",
   "metadata": {},
   "outputs": [],
   "source": [
    "import pandas as pd\n",
    "import numpy as np\n",
    "import matplotlib.pyplot as plt\n",
    "import seaborn as sns\n",
    "from sklearn import preprocessing\n",
    "import keras \n",
    "import tensorflow as tf"
   ]
  },
  {
   "cell_type": "code",
   "execution_count": 3,
   "id": "a5461a27-8ff8-4754-9a74-20e29c23da81",
   "metadata": {},
   "outputs": [
    {
     "data": {
      "text/html": [
       "<div>\n",
       "<style scoped>\n",
       "    .dataframe tbody tr th:only-of-type {\n",
       "        vertical-align: middle;\n",
       "    }\n",
       "\n",
       "    .dataframe tbody tr th {\n",
       "        vertical-align: top;\n",
       "    }\n",
       "\n",
       "    .dataframe thead th {\n",
       "        text-align: right;\n",
       "    }\n",
       "</style>\n",
       "<table border=\"1\" class=\"dataframe\">\n",
       "  <thead>\n",
       "    <tr style=\"text-align: right;\">\n",
       "      <th></th>\n",
       "      <th>mid</th>\n",
       "      <th>date</th>\n",
       "      <th>venue</th>\n",
       "      <th>bat_team</th>\n",
       "      <th>bowl_team</th>\n",
       "      <th>batsman</th>\n",
       "      <th>bowler</th>\n",
       "      <th>runs</th>\n",
       "      <th>wickets</th>\n",
       "      <th>overs</th>\n",
       "      <th>runs_last_5</th>\n",
       "      <th>wickets_last_5</th>\n",
       "      <th>striker</th>\n",
       "      <th>non-striker</th>\n",
       "      <th>total</th>\n",
       "    </tr>\n",
       "  </thead>\n",
       "  <tbody>\n",
       "    <tr>\n",
       "      <th>0</th>\n",
       "      <td>1</td>\n",
       "      <td>2008-04-18</td>\n",
       "      <td>M Chinnaswamy Stadium</td>\n",
       "      <td>Kolkata Knight Riders</td>\n",
       "      <td>Royal Challengers Bangalore</td>\n",
       "      <td>SC Ganguly</td>\n",
       "      <td>P Kumar</td>\n",
       "      <td>1</td>\n",
       "      <td>0</td>\n",
       "      <td>0.1</td>\n",
       "      <td>1</td>\n",
       "      <td>0</td>\n",
       "      <td>0</td>\n",
       "      <td>0</td>\n",
       "      <td>222</td>\n",
       "    </tr>\n",
       "    <tr>\n",
       "      <th>1</th>\n",
       "      <td>1</td>\n",
       "      <td>2008-04-18</td>\n",
       "      <td>M Chinnaswamy Stadium</td>\n",
       "      <td>Kolkata Knight Riders</td>\n",
       "      <td>Royal Challengers Bangalore</td>\n",
       "      <td>BB McCullum</td>\n",
       "      <td>P Kumar</td>\n",
       "      <td>1</td>\n",
       "      <td>0</td>\n",
       "      <td>0.2</td>\n",
       "      <td>1</td>\n",
       "      <td>0</td>\n",
       "      <td>0</td>\n",
       "      <td>0</td>\n",
       "      <td>222</td>\n",
       "    </tr>\n",
       "    <tr>\n",
       "      <th>2</th>\n",
       "      <td>1</td>\n",
       "      <td>2008-04-18</td>\n",
       "      <td>M Chinnaswamy Stadium</td>\n",
       "      <td>Kolkata Knight Riders</td>\n",
       "      <td>Royal Challengers Bangalore</td>\n",
       "      <td>BB McCullum</td>\n",
       "      <td>P Kumar</td>\n",
       "      <td>2</td>\n",
       "      <td>0</td>\n",
       "      <td>0.2</td>\n",
       "      <td>2</td>\n",
       "      <td>0</td>\n",
       "      <td>0</td>\n",
       "      <td>0</td>\n",
       "      <td>222</td>\n",
       "    </tr>\n",
       "    <tr>\n",
       "      <th>3</th>\n",
       "      <td>1</td>\n",
       "      <td>2008-04-18</td>\n",
       "      <td>M Chinnaswamy Stadium</td>\n",
       "      <td>Kolkata Knight Riders</td>\n",
       "      <td>Royal Challengers Bangalore</td>\n",
       "      <td>BB McCullum</td>\n",
       "      <td>P Kumar</td>\n",
       "      <td>2</td>\n",
       "      <td>0</td>\n",
       "      <td>0.3</td>\n",
       "      <td>2</td>\n",
       "      <td>0</td>\n",
       "      <td>0</td>\n",
       "      <td>0</td>\n",
       "      <td>222</td>\n",
       "    </tr>\n",
       "    <tr>\n",
       "      <th>4</th>\n",
       "      <td>1</td>\n",
       "      <td>2008-04-18</td>\n",
       "      <td>M Chinnaswamy Stadium</td>\n",
       "      <td>Kolkata Knight Riders</td>\n",
       "      <td>Royal Challengers Bangalore</td>\n",
       "      <td>BB McCullum</td>\n",
       "      <td>P Kumar</td>\n",
       "      <td>2</td>\n",
       "      <td>0</td>\n",
       "      <td>0.4</td>\n",
       "      <td>2</td>\n",
       "      <td>0</td>\n",
       "      <td>0</td>\n",
       "      <td>0</td>\n",
       "      <td>222</td>\n",
       "    </tr>\n",
       "  </tbody>\n",
       "</table>\n",
       "</div>"
      ],
      "text/plain": [
       "   mid        date                  venue               bat_team  \\\n",
       "0    1  2008-04-18  M Chinnaswamy Stadium  Kolkata Knight Riders   \n",
       "1    1  2008-04-18  M Chinnaswamy Stadium  Kolkata Knight Riders   \n",
       "2    1  2008-04-18  M Chinnaswamy Stadium  Kolkata Knight Riders   \n",
       "3    1  2008-04-18  M Chinnaswamy Stadium  Kolkata Knight Riders   \n",
       "4    1  2008-04-18  M Chinnaswamy Stadium  Kolkata Knight Riders   \n",
       "\n",
       "                     bowl_team      batsman   bowler  runs  wickets  overs  \\\n",
       "0  Royal Challengers Bangalore   SC Ganguly  P Kumar     1        0    0.1   \n",
       "1  Royal Challengers Bangalore  BB McCullum  P Kumar     1        0    0.2   \n",
       "2  Royal Challengers Bangalore  BB McCullum  P Kumar     2        0    0.2   \n",
       "3  Royal Challengers Bangalore  BB McCullum  P Kumar     2        0    0.3   \n",
       "4  Royal Challengers Bangalore  BB McCullum  P Kumar     2        0    0.4   \n",
       "\n",
       "   runs_last_5  wickets_last_5  striker  non-striker  total  \n",
       "0            1               0        0            0    222  \n",
       "1            1               0        0            0    222  \n",
       "2            2               0        0            0    222  \n",
       "3            2               0        0            0    222  \n",
       "4            2               0        0            0    222  "
      ]
     },
     "execution_count": 3,
     "metadata": {},
     "output_type": "execute_result"
    }
   ],
   "source": [
    "ipl = pd.read_csv('ipl_data.csv')\n",
    "ipl.head()"
   ]
  },
  {
   "cell_type": "code",
   "execution_count": 4,
   "id": "9407d2d9-4c47-4ee8-b292-0d158325107b",
   "metadata": {},
   "outputs": [],
   "source": [
    "#Dropping certain features \n",
    "df = ipl.drop(['date', 'runs', 'wickets', 'overs', 'runs_last_5', 'wickets_last_5','mid', 'striker', 'non-striker'], axis =1)"
   ]
  },
  {
   "cell_type": "code",
   "execution_count": 5,
   "id": "a092634a-0ca4-4e8b-a917-fc81d55e615f",
   "metadata": {},
   "outputs": [],
   "source": [
    "X = df.drop(['total'], axis =1)\n",
    "y = df['total']"
   ]
  },
  {
   "cell_type": "code",
   "execution_count": 6,
   "id": "358df933-d04b-4cae-a373-5bf55aa68caf",
   "metadata": {},
   "outputs": [],
   "source": [
    "#Label Encoding\n",
    "\n",
    "from sklearn.preprocessing import LabelEncoder\n",
    "\n",
    "# Create a LabelEncoder object for each categorical feature\n",
    "venue_encoder = LabelEncoder()\n",
    "batting_team_encoder = LabelEncoder()\n",
    "bowling_team_encoder = LabelEncoder()\n",
    "striker_encoder = LabelEncoder()\n",
    "bowler_encoder = LabelEncoder()\n",
    "\n",
    "# Fit and transform the categorical features with label encoding\n",
    "X['venue'] = venue_encoder.fit_transform(X['venue'])\n",
    "X['bat_team'] = batting_team_encoder.fit_transform(X['bat_team'])\n",
    "X['bowl_team'] = bowling_team_encoder.fit_transform(X['bowl_team'])\n",
    "X['batsman'] = striker_encoder.fit_transform(X['batsman'])\n",
    "X['bowler'] = bowler_encoder.fit_transform(X['bowler'])"
   ]
  },
  {
   "cell_type": "code",
   "execution_count": 7,
   "id": "f744c9ba-5322-4785-842e-7e9e6a51c6c4",
   "metadata": {},
   "outputs": [],
   "source": [
    "# Train test Split \n",
    "from sklearn.model_selection import train_test_split\n",
    "X_train, X_test, y_train, y_test = train_test_split(X, y, test_size=0.3, random_state=42)"
   ]
  },
  {
   "cell_type": "code",
   "execution_count": 8,
   "id": "f7e851c7-6eb3-4c5e-bb58-9fbf4aef5400",
   "metadata": {},
   "outputs": [],
   "source": [
    "from sklearn.preprocessing import MinMaxScaler\n",
    "\n",
    "scaler = MinMaxScaler()\n",
    "\n",
    "# Fit the scaler on the training data and transform both training and testing data\n",
    "X_train_scaled = scaler.fit_transform(X_train)\n",
    "X_test_scaled = scaler.transform(X_test)"
   ]
  },
  {
   "cell_type": "code",
   "execution_count": 9,
   "id": "0064de07-8b3b-4ce1-a513-dcc68d8a96b8",
   "metadata": {},
   "outputs": [],
   "source": [
    "# Define the neural network model\n",
    "model = keras.Sequential([\n",
    "    keras.layers.Input( shape=(X_train_scaled.shape[1],)),  # Input layer\n",
    "    keras.layers.Dense(512, activation='relu'),  # Hidden layer with 512 units and ReLU activation\n",
    "    keras.layers.Dense(216, activation='relu'),  # Hidden layer with 216 units and ReLU activation\n",
    "    keras.layers.Dense(1, activation='linear')  # Output layer with linear activation for regression\n",
    "])\n",
    "\n",
    "# Compile the model with Huber loss\n",
    "huber_loss = tf.keras.losses.Huber(delta=1.0)  # You can adjust the 'delta' parameter as needed\n",
    "model.compile(optimizer='adam', loss=huber_loss)  # Use Huber loss for regression"
   ]
  },
  {
   "cell_type": "code",
   "execution_count": 10,
   "id": "7e531680-763c-403d-ba61-8ff2a07fae29",
   "metadata": {},
   "outputs": [
    {
     "name": "stdout",
     "output_type": "stream",
     "text": [
      "Epoch 1/50\n",
      "\u001b[1m832/832\u001b[0m \u001b[32m━━━━━━━━━━━━━━━━━━━━\u001b[0m\u001b[37m\u001b[0m \u001b[1m4s\u001b[0m 4ms/step - loss: 56.3740 - val_loss: 22.1206\n",
      "Epoch 2/50\n",
      "\u001b[1m832/832\u001b[0m \u001b[32m━━━━━━━━━━━━━━━━━━━━\u001b[0m\u001b[37m\u001b[0m \u001b[1m3s\u001b[0m 3ms/step - loss: 22.2824 - val_loss: 22.5202\n",
      "Epoch 3/50\n",
      "\u001b[1m832/832\u001b[0m \u001b[32m━━━━━━━━━━━━━━━━━━━━\u001b[0m\u001b[37m\u001b[0m \u001b[1m3s\u001b[0m 4ms/step - loss: 22.5394 - val_loss: 22.2901\n",
      "Epoch 4/50\n",
      "\u001b[1m832/832\u001b[0m \u001b[32m━━━━━━━━━━━━━━━━━━━━\u001b[0m\u001b[37m\u001b[0m \u001b[1m3s\u001b[0m 4ms/step - loss: 22.4239 - val_loss: 22.0222\n",
      "Epoch 5/50\n",
      "\u001b[1m832/832\u001b[0m \u001b[32m━━━━━━━━━━━━━━━━━━━━\u001b[0m\u001b[37m\u001b[0m \u001b[1m3s\u001b[0m 4ms/step - loss: 22.2172 - val_loss: 21.9324\n",
      "Epoch 6/50\n",
      "\u001b[1m832/832\u001b[0m \u001b[32m━━━━━━━━━━━━━━━━━━━━\u001b[0m\u001b[37m\u001b[0m \u001b[1m3s\u001b[0m 4ms/step - loss: 22.1704 - val_loss: 21.9187\n",
      "Epoch 7/50\n",
      "\u001b[1m832/832\u001b[0m \u001b[32m━━━━━━━━━━━━━━━━━━━━\u001b[0m\u001b[37m\u001b[0m \u001b[1m3s\u001b[0m 4ms/step - loss: 22.1368 - val_loss: 21.8492\n",
      "Epoch 8/50\n",
      "\u001b[1m832/832\u001b[0m \u001b[32m━━━━━━━━━━━━━━━━━━━━\u001b[0m\u001b[37m\u001b[0m \u001b[1m3s\u001b[0m 4ms/step - loss: 22.1936 - val_loss: 21.9044\n",
      "Epoch 9/50\n",
      "\u001b[1m832/832\u001b[0m \u001b[32m━━━━━━━━━━━━━━━━━━━━\u001b[0m\u001b[37m\u001b[0m \u001b[1m3s\u001b[0m 4ms/step - loss: 22.1030 - val_loss: 21.9300\n",
      "Epoch 10/50\n",
      "\u001b[1m832/832\u001b[0m \u001b[32m━━━━━━━━━━━━━━━━━━━━\u001b[0m\u001b[37m\u001b[0m \u001b[1m3s\u001b[0m 4ms/step - loss: 22.0969 - val_loss: 21.9400\n",
      "Epoch 11/50\n",
      "\u001b[1m832/832\u001b[0m \u001b[32m━━━━━━━━━━━━━━━━━━━━\u001b[0m\u001b[37m\u001b[0m \u001b[1m3s\u001b[0m 4ms/step - loss: 22.1242 - val_loss: 21.9154\n",
      "Epoch 12/50\n",
      "\u001b[1m832/832\u001b[0m \u001b[32m━━━━━━━━━━━━━━━━━━━━\u001b[0m\u001b[37m\u001b[0m \u001b[1m3s\u001b[0m 4ms/step - loss: 22.2261 - val_loss: 22.0940\n",
      "Epoch 13/50\n",
      "\u001b[1m832/832\u001b[0m \u001b[32m━━━━━━━━━━━━━━━━━━━━\u001b[0m\u001b[37m\u001b[0m \u001b[1m3s\u001b[0m 4ms/step - loss: 22.1295 - val_loss: 21.8181\n",
      "Epoch 14/50\n",
      "\u001b[1m832/832\u001b[0m \u001b[32m━━━━━━━━━━━━━━━━━━━━\u001b[0m\u001b[37m\u001b[0m \u001b[1m3s\u001b[0m 3ms/step - loss: 22.1247 - val_loss: 21.8042\n",
      "Epoch 15/50\n",
      "\u001b[1m832/832\u001b[0m \u001b[32m━━━━━━━━━━━━━━━━━━━━\u001b[0m\u001b[37m\u001b[0m \u001b[1m3s\u001b[0m 4ms/step - loss: 22.0569 - val_loss: 21.7369\n",
      "Epoch 16/50\n",
      "\u001b[1m832/832\u001b[0m \u001b[32m━━━━━━━━━━━━━━━━━━━━\u001b[0m\u001b[37m\u001b[0m \u001b[1m3s\u001b[0m 3ms/step - loss: 21.9799 - val_loss: 21.7895\n",
      "Epoch 17/50\n",
      "\u001b[1m832/832\u001b[0m \u001b[32m━━━━━━━━━━━━━━━━━━━━\u001b[0m\u001b[37m\u001b[0m \u001b[1m3s\u001b[0m 4ms/step - loss: 22.1359 - val_loss: 21.8994\n",
      "Epoch 18/50\n",
      "\u001b[1m832/832\u001b[0m \u001b[32m━━━━━━━━━━━━━━━━━━━━\u001b[0m\u001b[37m\u001b[0m \u001b[1m3s\u001b[0m 4ms/step - loss: 22.0153 - val_loss: 21.7259\n",
      "Epoch 19/50\n",
      "\u001b[1m832/832\u001b[0m \u001b[32m━━━━━━━━━━━━━━━━━━━━\u001b[0m\u001b[37m\u001b[0m \u001b[1m3s\u001b[0m 4ms/step - loss: 22.1116 - val_loss: 21.7016\n",
      "Epoch 20/50\n",
      "\u001b[1m832/832\u001b[0m \u001b[32m━━━━━━━━━━━━━━━━━━━━\u001b[0m\u001b[37m\u001b[0m \u001b[1m3s\u001b[0m 4ms/step - loss: 22.0728 - val_loss: 21.7297\n",
      "Epoch 21/50\n",
      "\u001b[1m832/832\u001b[0m \u001b[32m━━━━━━━━━━━━━━━━━━━━\u001b[0m\u001b[37m\u001b[0m \u001b[1m3s\u001b[0m 4ms/step - loss: 21.8843 - val_loss: 21.8981\n",
      "Epoch 22/50\n",
      "\u001b[1m832/832\u001b[0m \u001b[32m━━━━━━━━━━━━━━━━━━━━\u001b[0m\u001b[37m\u001b[0m \u001b[1m3s\u001b[0m 4ms/step - loss: 22.0073 - val_loss: 21.8440\n",
      "Epoch 23/50\n",
      "\u001b[1m832/832\u001b[0m \u001b[32m━━━━━━━━━━━━━━━━━━━━\u001b[0m\u001b[37m\u001b[0m \u001b[1m3s\u001b[0m 4ms/step - loss: 21.9070 - val_loss: 21.6779\n",
      "Epoch 24/50\n",
      "\u001b[1m832/832\u001b[0m \u001b[32m━━━━━━━━━━━━━━━━━━━━\u001b[0m\u001b[37m\u001b[0m \u001b[1m3s\u001b[0m 4ms/step - loss: 21.7213 - val_loss: 21.4418\n",
      "Epoch 25/50\n",
      "\u001b[1m832/832\u001b[0m \u001b[32m━━━━━━━━━━━━━━━━━━━━\u001b[0m\u001b[37m\u001b[0m \u001b[1m3s\u001b[0m 4ms/step - loss: 21.8191 - val_loss: 21.7134\n",
      "Epoch 26/50\n",
      "\u001b[1m832/832\u001b[0m \u001b[32m━━━━━━━━━━━━━━━━━━━━\u001b[0m\u001b[37m\u001b[0m \u001b[1m3s\u001b[0m 3ms/step - loss: 21.6114 - val_loss: 21.3336\n",
      "Epoch 27/50\n",
      "\u001b[1m832/832\u001b[0m \u001b[32m━━━━━━━━━━━━━━━━━━━━\u001b[0m\u001b[37m\u001b[0m \u001b[1m3s\u001b[0m 4ms/step - loss: 21.6824 - val_loss: 21.5157\n",
      "Epoch 28/50\n",
      "\u001b[1m832/832\u001b[0m \u001b[32m━━━━━━━━━━━━━━━━━━━━\u001b[0m\u001b[37m\u001b[0m \u001b[1m3s\u001b[0m 4ms/step - loss: 21.6211 - val_loss: 21.2918\n",
      "Epoch 29/50\n",
      "\u001b[1m832/832\u001b[0m \u001b[32m━━━━━━━━━━━━━━━━━━━━\u001b[0m\u001b[37m\u001b[0m \u001b[1m3s\u001b[0m 4ms/step - loss: 21.3435 - val_loss: 21.1806\n",
      "Epoch 30/50\n",
      "\u001b[1m832/832\u001b[0m \u001b[32m━━━━━━━━━━━━━━━━━━━━\u001b[0m\u001b[37m\u001b[0m \u001b[1m3s\u001b[0m 3ms/step - loss: 21.3453 - val_loss: 21.1241\n",
      "Epoch 31/50\n",
      "\u001b[1m832/832\u001b[0m \u001b[32m━━━━━━━━━━━━━━━━━━━━\u001b[0m\u001b[37m\u001b[0m \u001b[1m3s\u001b[0m 3ms/step - loss: 21.4242 - val_loss: 21.0789\n",
      "Epoch 32/50\n",
      "\u001b[1m832/832\u001b[0m \u001b[32m━━━━━━━━━━━━━━━━━━━━\u001b[0m\u001b[37m\u001b[0m \u001b[1m3s\u001b[0m 3ms/step - loss: 21.3580 - val_loss: 21.0641\n",
      "Epoch 33/50\n",
      "\u001b[1m832/832\u001b[0m \u001b[32m━━━━━━━━━━━━━━━━━━━━\u001b[0m\u001b[37m\u001b[0m \u001b[1m3s\u001b[0m 3ms/step - loss: 21.2946 - val_loss: 21.0716\n",
      "Epoch 34/50\n",
      "\u001b[1m832/832\u001b[0m \u001b[32m━━━━━━━━━━━━━━━━━━━━\u001b[0m\u001b[37m\u001b[0m \u001b[1m3s\u001b[0m 3ms/step - loss: 21.1870 - val_loss: 20.9010\n",
      "Epoch 35/50\n",
      "\u001b[1m832/832\u001b[0m \u001b[32m━━━━━━━━━━━━━━━━━━━━\u001b[0m\u001b[37m\u001b[0m \u001b[1m3s\u001b[0m 3ms/step - loss: 21.1932 - val_loss: 20.7927\n",
      "Epoch 36/50\n",
      "\u001b[1m832/832\u001b[0m \u001b[32m━━━━━━━━━━━━━━━━━━━━\u001b[0m\u001b[37m\u001b[0m \u001b[1m3s\u001b[0m 3ms/step - loss: 20.8799 - val_loss: 20.7550\n",
      "Epoch 37/50\n",
      "\u001b[1m832/832\u001b[0m \u001b[32m━━━━━━━━━━━━━━━━━━━━\u001b[0m\u001b[37m\u001b[0m \u001b[1m3s\u001b[0m 3ms/step - loss: 20.9378 - val_loss: 20.6054\n",
      "Epoch 38/50\n",
      "\u001b[1m832/832\u001b[0m \u001b[32m━━━━━━━━━━━━━━━━━━━━\u001b[0m\u001b[37m\u001b[0m \u001b[1m3s\u001b[0m 3ms/step - loss: 20.9776 - val_loss: 20.6530\n",
      "Epoch 39/50\n",
      "\u001b[1m832/832\u001b[0m \u001b[32m━━━━━━━━━━━━━━━━━━━━\u001b[0m\u001b[37m\u001b[0m \u001b[1m3s\u001b[0m 3ms/step - loss: 20.7962 - val_loss: 20.4975\n",
      "Epoch 40/50\n",
      "\u001b[1m832/832\u001b[0m \u001b[32m━━━━━━━━━━━━━━━━━━━━\u001b[0m\u001b[37m\u001b[0m \u001b[1m3s\u001b[0m 3ms/step - loss: 20.5869 - val_loss: 20.3705\n",
      "Epoch 41/50\n",
      "\u001b[1m832/832\u001b[0m \u001b[32m━━━━━━━━━━━━━━━━━━━━\u001b[0m\u001b[37m\u001b[0m \u001b[1m3s\u001b[0m 3ms/step - loss: 20.6485 - val_loss: 20.2781\n",
      "Epoch 42/50\n",
      "\u001b[1m832/832\u001b[0m \u001b[32m━━━━━━━━━━━━━━━━━━━━\u001b[0m\u001b[37m\u001b[0m \u001b[1m3s\u001b[0m 3ms/step - loss: 20.4321 - val_loss: 20.3167\n",
      "Epoch 43/50\n",
      "\u001b[1m832/832\u001b[0m \u001b[32m━━━━━━━━━━━━━━━━━━━━\u001b[0m\u001b[37m\u001b[0m \u001b[1m3s\u001b[0m 3ms/step - loss: 20.1516 - val_loss: 20.0043\n",
      "Epoch 44/50\n",
      "\u001b[1m832/832\u001b[0m \u001b[32m━━━━━━━━━━━━━━━━━━━━\u001b[0m\u001b[37m\u001b[0m \u001b[1m3s\u001b[0m 3ms/step - loss: 20.1542 - val_loss: 19.9432\n",
      "Epoch 45/50\n",
      "\u001b[1m832/832\u001b[0m \u001b[32m━━━━━━━━━━━━━━━━━━━━\u001b[0m\u001b[37m\u001b[0m \u001b[1m3s\u001b[0m 3ms/step - loss: 20.1063 - val_loss: 19.8235\n",
      "Epoch 46/50\n",
      "\u001b[1m832/832\u001b[0m \u001b[32m━━━━━━━━━━━━━━━━━━━━\u001b[0m\u001b[37m\u001b[0m \u001b[1m3s\u001b[0m 3ms/step - loss: 19.9531 - val_loss: 19.6015\n",
      "Epoch 47/50\n",
      "\u001b[1m832/832\u001b[0m \u001b[32m━━━━━━━━━━━━━━━━━━━━\u001b[0m\u001b[37m\u001b[0m \u001b[1m3s\u001b[0m 3ms/step - loss: 19.8528 - val_loss: 19.4943\n",
      "Epoch 48/50\n",
      "\u001b[1m832/832\u001b[0m \u001b[32m━━━━━━━━━━━━━━━━━━━━\u001b[0m\u001b[37m\u001b[0m \u001b[1m3s\u001b[0m 4ms/step - loss: 19.7357 - val_loss: 19.4346\n",
      "Epoch 49/50\n",
      "\u001b[1m832/832\u001b[0m \u001b[32m━━━━━━━━━━━━━━━━━━━━\u001b[0m\u001b[37m\u001b[0m \u001b[1m3s\u001b[0m 4ms/step - loss: 19.5798 - val_loss: 19.3516\n",
      "Epoch 50/50\n",
      "\u001b[1m832/832\u001b[0m \u001b[32m━━━━━━━━━━━━━━━━━━━━\u001b[0m\u001b[37m\u001b[0m \u001b[1m3s\u001b[0m 4ms/step - loss: 19.7019 - val_loss: 19.3731\n"
     ]
    },
    {
     "data": {
      "text/plain": [
       "<keras.src.callbacks.history.History at 0x2a306e68860>"
      ]
     },
     "execution_count": 10,
     "metadata": {},
     "output_type": "execute_result"
    }
   ],
   "source": [
    "# Train the model\n",
    "model.fit(X_train_scaled, y_train, epochs=50, batch_size=64, validation_data=(X_test_scaled, y_test))"
   ]
  },
  {
   "cell_type": "code",
   "execution_count": 11,
   "id": "50ec5c30-22a2-4a96-8835-dd03d33fc310",
   "metadata": {},
   "outputs": [
    {
     "data": {
      "text/plain": [
       "<Axes: >"
      ]
     },
     "execution_count": 11,
     "metadata": {},
     "output_type": "execute_result"
    },
    {
     "data": {
      "image/png": "[encoded data removed]",
      "text/plain": [
       "<Figure size 640x480 with 1 Axes>"
      ]
     },
     "metadata": {},
     "output_type": "display_data"
    }
   ],
   "source": [
    "model_losses = pd.DataFrame(model.history.history)\n",
    "model_losses.plot()"
   ]
  },
  {
   "cell_type": "code",
   "execution_count": 12,
   "id": "95fd9d72-3b90-4621-b189-b70013be888d",
   "metadata": {},
   "outputs": [
    {
     "name": "stdout",
     "output_type": "stream",
     "text": [
      "\u001b[1m713/713\u001b[0m \u001b[32m━━━━━━━━━━━━━━━━━━━━\u001b[0m\u001b[37m\u001b[0m \u001b[1m1s\u001b[0m 1ms/step\n"
     ]
    },
    {
     "data": {
      "text/plain": [
       "19.865287916254147"
      ]
     },
     "execution_count": 12,
     "metadata": {},
     "output_type": "execute_result"
    }
   ],
   "source": [
    "# Make predictions\n",
    "predictions = model.predict(X_test_scaled)\n",
    "\n",
    "from sklearn.metrics import mean_absolute_error,mean_squared_error\n",
    "mean_absolute_error(y_test,predictions)"
   ]
  },
  {
   "cell_type": "code",
   "execution_count": 13,
   "id": "53b6882e-dd3c-4dec-86c9-34cd1b8a10f1",
   "metadata": {},
   "outputs": [
    {
     "name": "stderr",
     "output_type": "stream",
     "text": [
      "WARNING:absl:You are saving your model as an HDF5 file via `model.save()` or `keras.saving.save_model(model)`. This file format is considered legacy. We recommend using instead the native Keras format, e.g. `model.save('my_model.keras')` or `keras.saving.save_model(model, 'my_model.keras')`. \n"
     ]
    },
    {
     "data": {
      "text/plain": [
       "['scaler.pkl']"
      ]
     },
     "execution_count": 13,
     "metadata": {},
     "output_type": "execute_result"
    }
   ],
   "source": [
    "import joblib\n",
    "\n",
    "# Save model (Keras model)\n",
    "model.save(\"score_predictor_model.h5\")\n",
    "\n",
    "# Save encoders\n",
    "joblib.dump(venue_encoder, 'venue_encoder.pkl')\n",
    "joblib.dump(batting_team_encoder, 'batting_team_encoder.pkl')\n",
    "joblib.dump(bowling_team_encoder, 'bowling_team_encoder.pkl')\n",
    "joblib.dump(striker_encoder, 'striker_encoder.pkl')\n",
    "joblib.dump(bowler_encoder, 'bowler_encoder.pkl')\n",
    "\n",
    "# Save scaler\n",
    "joblib.dump(scaler, 'scaler.pkl')\n"
   ]
  }
 ],
 "metadata": {
  "kernelspec": {
   "display_name": "Python 3 (ipykernel)",
   "language": "python",
   "name": "python3"
  },
  "language_info": {
   "codemirror_mode": {
    "name": "ipython",
    "version": 3
   },
   "file_extension": ".py",
   "mimetype": "text/x-python",
   "name": "python",
   "nbconvert_exporter": "python",
   "pygments_lexer": "ipython3",
   "version": "3.12.4"
  }
 },
 "nbformat": 4,
 "nbformat_minor": 5
}
